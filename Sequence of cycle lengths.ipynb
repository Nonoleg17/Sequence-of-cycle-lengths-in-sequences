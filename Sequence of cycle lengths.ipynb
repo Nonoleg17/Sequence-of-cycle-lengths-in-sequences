{
 "cells": [
  {
   "cell_type": "code",
   "execution_count": 6,
   "metadata": {},
   "outputs": [
    {
     "name": "stdout",
     "output_type": "stream",
     "text": [
      "True\n",
      "YES\n"
     ]
    }
   ],
   "source": [
    "def find_pred(q_n):\n",
    "    r = 0 \n",
    "   # print('q_n:', q_n)\n",
    "    while q_n % 2 == 0:\n",
    "        q_n, r = q_n //2, r+1\n",
    "    return q_n, r\n",
    "\n",
    "\n",
    "def test(f_x,degree,q,K,l=20):\n",
    "    t,r = find_pred(q**degree-1)\n",
    "    #x = K.gen()\n",
    "    for i in range(l):\n",
    "        K_quotient=K.quotient(f_x)\n",
    "        a_x = K_quotient.random_element()\n",
    "        \n",
    "        #a_x=K.random_element(1,degree)\n",
    "        #print(a_x)\n",
    "        a_x=K_quotient((a_x**t))\n",
    "        #print(a_x/characteristic())\n",
    "        if a_x != 1:\n",
    "            j=0\n",
    "            while j < r and a_x !=-1:\n",
    "                a_x = K_quotient((a_x**2))\n",
    "                j+=1\n",
    "            if j == r:\n",
    "                return 'NO'\n",
    "    return 'YES'\n",
    "    \n",
    "\n",
    "q = 2\n",
    "#q = 1922603\n",
    "Z=Zmod(q)\n",
    "K=PolynomialRing(Z, 'x')\n",
    "'''\n",
    "f_x=K(395773 + 1276736 * x + 776995 * x^2 + 63362 * x^3 + 251165 * x^4 +\n",
    "98104 * x^5 + 45028 * x^6 + 1586515 * x^7 + 1761128 * x^8 + 485229 * x^9+\n",
    "624019 * x^10 + 1421629 * x^11 + 1375936 * x^12 + 1596387 * x^13 + 1270823 * x^14+\n",
    "37944 * x^15 + 1921481 * x^16 + 1922598 * x^17 +x^18)\n",
    "f_2 = K(x**18+7288*x**17+1569197*x**16+462295*x**15+832234*x**14+72126*x**13+410429*x**12\n",
    "       +1874129*x**11+531482*x**10+1741564*x**9+1632964*x**8+1066504*x**7+1105905*x**6+\n",
    "       1062657*x**5+417643*x**4+359234*x**3+131984*x**2+220096*x+66760)'''\n",
    "f_x=K(x^18 + 952450*x^17 + 931196*x^16 + 595313*x^15 + 1511950*x^14 + 1724458*x^13 + 29963*x^12 + 1356216*x^11 + 1346755*x^10 + 212926*x^9 + 1210137*x^8 + 1151948*x^7 + 1681857*x^6 + 804989*x^5 + 269260*x^4 + 1231533*x^3 + 325180*x^2 + 344463*x + 635432)\n",
    "\n",
    "f_x=K(x^5 + x^4 + x^3 + x + 1)\n",
    "print(f_x.is_irreducible())\n",
    "res=test(f_x,f_x.degree(),q,K)\n",
    "print(res)"
   ]
  },
  {
   "cell_type": "code",
   "execution_count": 8,
   "metadata": {},
   "outputs": [
    {
     "name": "stdout",
     "output_type": "stream",
     "text": [
      "log2 n = 5.0\n",
      "b1 = 30*x^6 + 24*x^5 + 27*x^4 + 38*x^3 + 28*x^2 + 19*x + 36\n",
      "b2 = 37*x^25 + 35*x^24 + 40*x^23 + 13*x^22 + 2*x^21 + 22*x^20 + 4*x^19 + 16*x^18 + 17*x^17 + 12*x^16 + 6*x^15 + 21*x^14 + 24*x^13 + 32*x^12 + 8*x^11 + 39*x^10 + 34*x^9 + 22*x^8 + 30*x^7 + 16*x^6 + 30*x^5 + 20*x^4 + 26*x^3 + 4*x^2 + 19*x + 11\n",
      "f = b1 * b2 = 3*x^31 + 11*x^30 + 5*x^29 + 11*x^28 + 5*x^27 + 39*x^26 + 8*x^25 + 22*x^24 + 14*x^23 + 14*x^22 + 5*x^21 + 26*x^20 + 19*x^19 + 40*x^18 + 18*x^17 + 8*x^16 + x^15 + 21*x^14 + 30*x^13 + 29*x^12 + 32*x^11 + 23*x^10 + 35*x^9 + 11*x^8 + 6*x^7 + 21*x^6 + x^5 + 8*x^4 + 35*x^3 + 34*x^2 + 32*x + 27\n"
     ]
    }
   ],
   "source": [
    "from math import log2\n",
    "def gen_nepr_for_ben(q,n):\n",
    "    if q in Primes():\n",
    "        r=round(log2(n))+1\n",
    "        print('log2 n = '+str(r-1))\n",
    "        Kx=PolynomialRing(Zmod(q), 'x')\n",
    "        res=0\n",
    "        while 1:\n",
    "            buf=Kx.random_element(r,q)\n",
    "            if buf.is_irreducible():\n",
    "                res=buf\n",
    "                step=buf.degree()\n",
    "                break\n",
    "        while 1:\n",
    "            buf=Kx.random_element(n-step,n-step)\n",
    "            if buf.is_irreducible():\n",
    "                print('b1 = '+str(res)+'\\nb2 = '+str(buf))\n",
    "                res=res*buf\n",
    "                break\n",
    "        print('f = b1 * b2 = '+str(res))\n",
    "        return \n",
    "    print('q is not prime')\n",
    "\n",
    "#F_q, степень генерируемого полинома\n",
    "gen_nepr_for_ben(41,31)"
   ]
  },
  {
   "cell_type": "code",
   "execution_count": 49,
   "metadata": {},
   "outputs": [
    {
     "name": "stdout",
     "output_type": "stream",
     "text": [
      "x^18 + 1753958*x^17 + 816020*x^16 + 1370297*x^15 + 375403*x^14 + 985595*x^13 + 356178*x^12 + 1582764*x^11 + 725715*x^10 + 1660798*x^9 + 1903855*x^8 + 330085*x^7 + 1764402*x^6 + 600827*x^5 + 476354*x^4 + 1181647*x^3 + 1808660*x^2 + 656483*x + 68507\n"
     ]
    }
   ],
   "source": [
    "q = 1922603\n",
    "Z=Zmod(q)\n",
    "K=PolynomialRing(Z, 'x')\n",
    "f=K(x^18 + 1753958*x^17 + 816020*x^16 + 1370297*x^15 + 375403*x^14 + 985595*x^13 + 356178*x^12 + 1582764*x^11 + 725715*x^10 + 1660798*x^9 + 1903855*x^8 + 330085*x^7 + 1764402*x^6 + 600827*x^5 + 476354*x^4 + 1181647*x^3 + 1808660*x^2 + 656483*x + 68507)\n",
    "print(factor(f))"
   ]
  },
  {
   "cell_type": "code",
   "execution_count": 7,
   "metadata": {},
   "outputs": [
    {
     "name": "stdout",
     "output_type": "stream",
     "text": [
      "sage:  False\n",
      "x^5 + x^3 + x^2 + 1\n",
      "sage_test_new:  False\n"
     ]
    }
   ],
   "source": [
    "def generation(q, f, F):\n",
    "    n = f.degree()\n",
    "    Fx.<x> = F.quotient(f)\n",
    "    while True:\n",
    "        alph = Fx.random_element()\n",
    "        r = 1\n",
    "        fi = Fx(x) - alph\n",
    "        g = pow(alph, q)\n",
    "        while g != alph:\n",
    "            r += 1\n",
    "            fi = fi*(Fx(x) - g) \n",
    "            g = pow(g ,q)\n",
    "        if r < n:\n",
    "            continue\n",
    "        fi = F(fi.list()) + f\n",
    "        return fi\n",
    "q = 2\n",
    "#q = 1922603\n",
    "Z=Zmod(q)\n",
    "K=PolynomialRing(Z, 'x')\n",
    "\n",
    "f=K(395773 + 1276736 * x + 776995 * x^2 + 63362 * x^3 + 251165 * x^4 +\n",
    "98104 * x^5 + 45028 * x^6 + 1586515 * x^7 + 1761128 * x^8 + 485229 * x^9+\n",
    "624019 * x^10 + 1421629 * x^11 + 1375936 * x^12 + 1596387 * x^13 + 1270823 * x^14+\n",
    "37944 * x^15 + 1921481 * x^16 + 1922598 * x^17 +x^18)  \n",
    "\n",
    "f=K(x^5+x+1)\n",
    "print('sage: ', f.is_irreducible())\n",
    "res = generation(q,f,K)\n",
    "print(res)\n",
    "print('sage_test_new: ', res.is_irreducible())"
   ]
  },
  {
   "cell_type": "code",
   "execution_count": null,
   "metadata": {},
   "outputs": [],
   "source": []
  },
  {
   "cell_type": "code",
   "execution_count": null,
   "metadata": {},
   "outputs": [],
   "source": []
  }
 ],
 "metadata": {
  "kernelspec": {
   "display_name": "SageMath 9.2",
   "language": "sage",
   "name": "sagemath"
  },
  "language_info": {
   "codemirror_mode": {
    "name": "ipython",
    "version": 3
   },
   "file_extension": ".py",
   "mimetype": "text/x-python",
   "name": "python",
   "nbconvert_exporter": "python",
   "pygments_lexer": "ipython3",
   "version": "3.7.7"
  }
 },
 "nbformat": 4,
 "nbformat_minor": 4
}
